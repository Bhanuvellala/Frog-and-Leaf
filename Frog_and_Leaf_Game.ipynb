{
  "cells": [
    {
      "cell_type": "markdown",
      "metadata": {
        "id": "pYrbgw_bmqQI"
      },
      "source": [
        "#**Frog and Leaf Game**\n",
        "\n",
        "\n"
      ]
    },
    {
      "cell_type": "code",
      "execution_count": null,
      "metadata": {
        "colab": {
          "background_save": true,
          "base_uri": "https://localhost:8080/"
        },
        "id": "cRW7K8h0PfPf",
        "outputId": "b38a3b3f-c524-47e5-d899-9afb58133185"
      },
      "outputs": [
        {
          "name": "stdout",
          "output_type": "stream",
          "text": [
            "[ 0, 1 , 2 , 3 , 4 , 5 , 6 ]\n",
            "['G', 'G', 'G', '_', 'B', 'B', 'B']\n"
          ]
        }
      ],
      "source": [
        "print(\"[ 0, 1 , 2 , 3 , 4 , 5 , 6 ]\")\n",
        "positions = ['G', 'G', 'G', '_', 'B', 'B', 'B']\n",
        "print(positions)\n",
        "def print_board():\n",
        "    print(\"[ 0, 1 , 2 , 3 , 4 , 5 , 6 ]\")\n",
        "    print(positions)\n",
        "\n",
        "def initialize_game():\n",
        "    return ['G', 'G', 'G', '_', 'B', 'B', 'B']\n",
        "\n",
        "while True:\n",
        "    move = input(\"Enter 'q' To Quit, Enter 'r' to RESET the Game. Enter Position of piece:\")\n",
        "\n",
        "    if move.lower() == 'q':\n",
        "        print(\"Oops!! You Lost\")\n",
        "        break\n",
        "\n",
        "    if move.lower() == 'r':\n",
        "        positions = initialize_game()\n",
        "        print(\"Game Reset!\")\n",
        "        print_board()  # Fix: Removed the argument here\n",
        "        continue\n",
        "\n",
        "    move = int(move)\n",
        "\n",
        "    if move < 0 or move > 6:\n",
        "        print(\"INVALID MOVE\")\n",
        "        continue\n",
        "\n",
        "    if positions[move] == '_':\n",
        "        print('Oops!! You Lost')\n",
        "        break\n",
        "\n",
        "    empty = 0\n",
        "    if positions[move] == 'G':\n",
        "        if move + 1 <= 6 and positions[move + 1] == '_':\n",
        "            empty = move + 1\n",
        "        elif move + 2 <= 6 and positions[move + 2] == '_':\n",
        "            empty = move + 2\n",
        "        else:\n",
        "            print(\"Invalid Move\")\n",
        "            continue\n",
        "    elif positions[move] == 'B':\n",
        "        if move - 1 >= 0 and positions[move - 1] == '_':\n",
        "            empty = move - 1\n",
        "        elif move - 2 >= 0 and positions[move - 2] == '_':\n",
        "            empty = move - 2\n",
        "        else:\n",
        "            print(\"INVALID MOVE\")\n",
        "            continue\n",
        "\n",
        "    positions[move], positions[empty] = positions[empty], positions[move]\n",
        "    print_board()\n",
        "\n",
        "    if positions == ['_', 'B', 'B', 'B', 'G', 'G', 'G']:\n",
        "        print('OPPOS!! You Loss')\n",
        "        break\n",
        "    elif positions == ['B', 'B', 'B', 'G', 'G', 'G', '_']:\n",
        "        print('OPPOS!! You Loss')\n",
        "        break\n",
        "    elif positions == ['G', 'G', 'B', 'B', 'B', '_', 'G']:\n",
        "        print('OPPOS!! You Loss')\n",
        "        break\n",
        "    elif positions == ['B', 'B', 'B', '_', 'G', 'G', 'G']:\n",
        "        print('Hurry!! You Win')\n",
        "        break"
      ]
    },
    {
      "cell_type": "code",
      "execution_count": null,
      "metadata": {
        "id": "HBQzy6jQNYra"
      },
      "outputs": [],
      "source": []
    },
    {
      "cell_type": "code",
      "source": [],
      "metadata": {
        "id": "vmwQsnOE9-ZI"
      },
      "execution_count": null,
      "outputs": []
    }
  ],
  "metadata": {
    "colab": {
      "provenance": []
    },
    "kernelspec": {
      "display_name": "Python 3",
      "name": "python3"
    },
    "language_info": {
      "name": "python"
    }
  },
  "nbformat": 4,
  "nbformat_minor": 0
}